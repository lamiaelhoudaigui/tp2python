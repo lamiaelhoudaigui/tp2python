{
 "cells": [
  {
   "cell_type": "code",
   "execution_count": 1,
   "id": "e26f5ef0-696b-45e5-8cbe-1c854133c9f0",
   "metadata": {},
   "outputs": [],
   "source": [
    "import pandas as pd\n",
    "import numpy as np\n",
    "import seaborn as sns\n",
    "import matplotlib.pyplot as plt"
   ]
  },
  {
   "cell_type": "code",
   "execution_count": 2,
   "id": "ab645053-ca31-445a-a0a3-cb95fc4c1737",
   "metadata": {},
   "outputs": [
    {
     "data": {
      "text/plain": [
       "'1.4.1'"
      ]
     },
     "execution_count": 2,
     "metadata": {},
     "output_type": "execute_result"
    }
   ],
   "source": [
    "pd.__version__"
   ]
  },
  {
   "cell_type": "markdown",
   "id": "4bdc9bd6",
   "metadata": {},
   "source": []
  },
  {
   "cell_type": "markdown",
   "id": "87e08c8f-7516-4153-90f5-56c3483e1ce8",
   "metadata": {
    "jp-MarkdownHeadingCollapsed": true,
    "tags": []
   },
   "source": [
    "# Manipulation de données"
   ]
  },
  {
   "cell_type": "code",
   "execution_count": 3,
   "id": "00e3fa7d-2bcc-46ef-a689-83a4c977a1a5",
   "metadata": {},
   "outputs": [],
   "source": [
    "df=pd.read_csv('nodes-addresses.csv',low_memory=False)"
   ]
  },
  {
   "cell_type": "code",
   "execution_count": 4,
   "id": "3ad31949-2e23-4018-ae24-bf693a847d8e",
   "metadata": {},
   "outputs": [
    {
     "data": {
      "text/plain": [
       "0                                      Bahamas Leaks\n",
       "1                                      Bahamas Leaks\n",
       "2                                      Bahamas Leaks\n",
       "3                                      Bahamas Leaks\n",
       "4                                      Bahamas Leaks\n",
       "                             ...                    \n",
       "390990    Paradise Papers - Samoa corporate registry\n",
       "390991    Paradise Papers - Samoa corporate registry\n",
       "390992    Paradise Papers - Samoa corporate registry\n",
       "390993    Paradise Papers - Samoa corporate registry\n",
       "390994    Paradise Papers - Samoa corporate registry\n",
       "Name: sourceID, Length: 390995, dtype: object"
      ]
     },
     "execution_count": 4,
     "metadata": {},
     "output_type": "execute_result"
    }
   ],
   "source": [
    "df[\"sourceID\"]"
   ]
  },
  {
   "cell_type": "code",
   "execution_count": 5,
   "id": "c081e5f1-4835-4c89-9c66-d1742f883ec4",
   "metadata": {},
   "outputs": [
    {
     "data": {
      "text/html": [
       "<div>\n",
       "<style scoped>\n",
       "    .dataframe tbody tr th:only-of-type {\n",
       "        vertical-align: middle;\n",
       "    }\n",
       "\n",
       "    .dataframe tbody tr th {\n",
       "        vertical-align: top;\n",
       "    }\n",
       "\n",
       "    .dataframe thead th {\n",
       "        text-align: right;\n",
       "    }\n",
       "</style>\n",
       "<table border=\"1\" class=\"dataframe\">\n",
       "  <thead>\n",
       "    <tr style=\"text-align: right;\">\n",
       "      <th></th>\n",
       "      <th>_id</th>\n",
       "      <th>node_id</th>\n",
       "      <th>address</th>\n",
       "      <th>name</th>\n",
       "      <th>countries</th>\n",
       "      <th>country_codes</th>\n",
       "      <th>sourceID</th>\n",
       "      <th>valid_until</th>\n",
       "      <th>note</th>\n",
       "    </tr>\n",
       "  </thead>\n",
       "  <tbody>\n",
       "    <tr>\n",
       "      <th>93984</th>\n",
       "      <td>781556</td>\n",
       "      <td>2004267</td>\n",
       "      <td>One Bearer Secured Debenture</td>\n",
       "      <td>NaN</td>\n",
       "      <td>Not identified</td>\n",
       "      <td>XXX</td>\n",
       "      <td>Offshore Leaks</td>\n",
       "      <td>The Offshore Leaks data is current through 2010</td>\n",
       "      <td>NaN</td>\n",
       "    </tr>\n",
       "    <tr>\n",
       "      <th>93985</th>\n",
       "      <td>781557</td>\n",
       "      <td>67277</td>\n",
       "      <td>11 Coomber Road, The Peak, Hong Kong</td>\n",
       "      <td>NaN</td>\n",
       "      <td>Hong Kong</td>\n",
       "      <td>HKG</td>\n",
       "      <td>Offshore Leaks</td>\n",
       "      <td>The Offshore Leaks data is current through 2010</td>\n",
       "      <td>NaN</td>\n",
       "    </tr>\n",
       "    <tr>\n",
       "      <th>93986</th>\n",
       "      <td>781558</td>\n",
       "      <td>67346</td>\n",
       "      <td>4 Irish Place 2nd Floor, Gibraltar.</td>\n",
       "      <td>NaN</td>\n",
       "      <td>Gibraltar</td>\n",
       "      <td>GIB</td>\n",
       "      <td>Offshore Leaks</td>\n",
       "      <td>The Offshore Leaks data is current through 2010</td>\n",
       "      <td>NaN</td>\n",
       "    </tr>\n",
       "    <tr>\n",
       "      <th>93987</th>\n",
       "      <td>781559</td>\n",
       "      <td>67278</td>\n",
       "      <td>11A, Branksome 3 Tregunter Path Mid-Levels Hon...</td>\n",
       "      <td>NaN</td>\n",
       "      <td>Hong Kong</td>\n",
       "      <td>HKG</td>\n",
       "      <td>Offshore Leaks</td>\n",
       "      <td>The Offshore Leaks data is current through 2010</td>\n",
       "      <td>NaN</td>\n",
       "    </tr>\n",
       "    <tr>\n",
       "      <th>93988</th>\n",
       "      <td>781560</td>\n",
       "      <td>67282</td>\n",
       "      <td>14 Lysander Road West Mailing Kent ME19 4TT</td>\n",
       "      <td>NaN</td>\n",
       "      <td>United Kingdom</td>\n",
       "      <td>GBR</td>\n",
       "      <td>Offshore Leaks</td>\n",
       "      <td>The Offshore Leaks data is current through 2010</td>\n",
       "      <td>NaN</td>\n",
       "    </tr>\n",
       "    <tr>\n",
       "      <th>...</th>\n",
       "      <td>...</td>\n",
       "      <td>...</td>\n",
       "      <td>...</td>\n",
       "      <td>...</td>\n",
       "      <td>...</td>\n",
       "      <td>...</td>\n",
       "      <td>...</td>\n",
       "      <td>...</td>\n",
       "      <td>...</td>\n",
       "    </tr>\n",
       "    <tr>\n",
       "      <th>151579</th>\n",
       "      <td>839151</td>\n",
       "      <td>67598</td>\n",
       "      <td>10B/15 Shun Ning Road, Kowloon, Hong Kong</td>\n",
       "      <td>NaN</td>\n",
       "      <td>Hong Kong</td>\n",
       "      <td>HKG</td>\n",
       "      <td>Offshore Leaks</td>\n",
       "      <td>The Offshore Leaks data is current through 2010</td>\n",
       "      <td>NaN</td>\n",
       "    </tr>\n",
       "    <tr>\n",
       "      <th>151580</th>\n",
       "      <td>839152</td>\n",
       "      <td>67476</td>\n",
       "      <td>ul.Rudnevoy 19A,Berdyansk, Ukraine.</td>\n",
       "      <td>NaN</td>\n",
       "      <td>Ukraine</td>\n",
       "      <td>UKR</td>\n",
       "      <td>Offshore Leaks</td>\n",
       "      <td>The Offshore Leaks data is current through 2010</td>\n",
       "      <td>NaN</td>\n",
       "    </tr>\n",
       "    <tr>\n",
       "      <th>151581</th>\n",
       "      <td>839153</td>\n",
       "      <td>67530</td>\n",
       "      <td>10 Hill Close Peckleton Leicestershire UNITED ...</td>\n",
       "      <td>NaN</td>\n",
       "      <td>United Kingdom</td>\n",
       "      <td>GBR</td>\n",
       "      <td>Offshore Leaks</td>\n",
       "      <td>The Offshore Leaks data is current through 2010</td>\n",
       "      <td>NaN</td>\n",
       "    </tr>\n",
       "    <tr>\n",
       "      <th>151582</th>\n",
       "      <td>839154</td>\n",
       "      <td>67532</td>\n",
       "      <td>10 Lichfield Road, London, NW2 2RE</td>\n",
       "      <td>NaN</td>\n",
       "      <td>United Kingdom</td>\n",
       "      <td>GBR</td>\n",
       "      <td>Offshore Leaks</td>\n",
       "      <td>The Offshore Leaks data is current through 2010</td>\n",
       "      <td>NaN</td>\n",
       "    </tr>\n",
       "    <tr>\n",
       "      <th>151583</th>\n",
       "      <td>839155</td>\n",
       "      <td>67362</td>\n",
       "      <td>83 Perkins Road, Jardines Lookout, Hong kong</td>\n",
       "      <td>NaN</td>\n",
       "      <td>Hong Kong</td>\n",
       "      <td>HKG</td>\n",
       "      <td>Offshore Leaks</td>\n",
       "      <td>The Offshore Leaks data is current through 2010</td>\n",
       "      <td>NaN</td>\n",
       "    </tr>\n",
       "  </tbody>\n",
       "</table>\n",
       "<p>57600 rows × 9 columns</p>\n",
       "</div>"
      ],
      "text/plain": [
       "           _id  node_id                                            address  \\\n",
       "93984   781556  2004267                       One Bearer Secured Debenture   \n",
       "93985   781557    67277               11 Coomber Road, The Peak, Hong Kong   \n",
       "93986   781558    67346                4 Irish Place 2nd Floor, Gibraltar.   \n",
       "93987   781559    67278  11A, Branksome 3 Tregunter Path Mid-Levels Hon...   \n",
       "93988   781560    67282        14 Lysander Road West Mailing Kent ME19 4TT   \n",
       "...        ...      ...                                                ...   \n",
       "151579  839151    67598          10B/15 Shun Ning Road, Kowloon, Hong Kong   \n",
       "151580  839152    67476                ul.Rudnevoy 19A,Berdyansk, Ukraine.   \n",
       "151581  839153    67530  10 Hill Close Peckleton Leicestershire UNITED ...   \n",
       "151582  839154    67532                 10 Lichfield Road, London, NW2 2RE   \n",
       "151583  839155    67362       83 Perkins Road, Jardines Lookout, Hong kong   \n",
       "\n",
       "       name       countries country_codes        sourceID  \\\n",
       "93984   NaN  Not identified           XXX  Offshore Leaks   \n",
       "93985   NaN       Hong Kong           HKG  Offshore Leaks   \n",
       "93986   NaN       Gibraltar           GIB  Offshore Leaks   \n",
       "93987   NaN       Hong Kong           HKG  Offshore Leaks   \n",
       "93988   NaN  United Kingdom           GBR  Offshore Leaks   \n",
       "...     ...             ...           ...             ...   \n",
       "151579  NaN       Hong Kong           HKG  Offshore Leaks   \n",
       "151580  NaN         Ukraine           UKR  Offshore Leaks   \n",
       "151581  NaN  United Kingdom           GBR  Offshore Leaks   \n",
       "151582  NaN  United Kingdom           GBR  Offshore Leaks   \n",
       "151583  NaN       Hong Kong           HKG  Offshore Leaks   \n",
       "\n",
       "                                            valid_until note  \n",
       "93984   The Offshore Leaks data is current through 2010  NaN  \n",
       "93985   The Offshore Leaks data is current through 2010  NaN  \n",
       "93986   The Offshore Leaks data is current through 2010  NaN  \n",
       "93987   The Offshore Leaks data is current through 2010  NaN  \n",
       "93988   The Offshore Leaks data is current through 2010  NaN  \n",
       "...                                                 ...  ...  \n",
       "151579  The Offshore Leaks data is current through 2010  NaN  \n",
       "151580  The Offshore Leaks data is current through 2010  NaN  \n",
       "151581  The Offshore Leaks data is current through 2010  NaN  \n",
       "151582  The Offshore Leaks data is current through 2010  NaN  \n",
       "151583  The Offshore Leaks data is current through 2010  NaN  \n",
       "\n",
       "[57600 rows x 9 columns]"
      ]
     },
     "execution_count": 5,
     "metadata": {},
     "output_type": "execute_result"
    }
   ],
   "source": [
    "df[df[\"sourceID\"]==\"Offshore Leaks\"]"
   ]
  },
  {
   "cell_type": "code",
   "execution_count": 6,
   "id": "7256372a-1687-4106-be22-9ef98b5e2bfa",
   "metadata": {},
   "outputs": [
    {
     "data": {
      "text/plain": [
       "Paradise Papers - Malta corporate registry                   123266\n",
       "Panama Papers                                                 93454\n",
       "Paradise Papers - Appleby                                     59200\n",
       "Offshore Leaks                                                57600\n",
       "Paradise Papers - Barbados corporate registry                 20768\n",
       "Paradise Papers - Aruba corporate registry                    17901\n",
       "Pandora Papers - Alemán, Cordero, Galindo & Lee (Alcogal)     13100\n",
       "Pandora Papers - Fidelity Corporate Services                   2940\n",
       "Paradise Papers - Samoa corporate registry                     1695\n",
       "Bahamas Leaks                                                   551\n",
       "Paradise Papers - Bahamas corporate registry                    333\n",
       "Paradise Papers - Nevis corporate registry                      187\n",
       "Name: sourceID, dtype: int64"
      ]
     },
     "execution_count": 6,
     "metadata": {},
     "output_type": "execute_result"
    }
   ],
   "source": [
    "df[\"sourceID\"].value_counts()"
   ]
  },
  {
   "cell_type": "markdown",
   "id": "a0d53d9a-7606-495a-9ee3-7968e558d9be",
   "metadata": {
    "jp-MarkdownHeadingCollapsed": true,
    "tags": []
   },
   "source": [
    "# Exercice I avec Pandas"
   ]
  },
  {
   "cell_type": "markdown",
   "id": "85c8f4d3-93a7-4638-bcbb-8fb3105fcbb8",
   "metadata": {
    "jp-MarkdownHeadingCollapsed": true,
    "tags": []
   },
   "source": [
    "#### 1.Combien de pays ont été déclarés dans les offshore leaks ? (nodes-addresses.csv)"
   ]
  },
  {
   "cell_type": "code",
   "execution_count": 7,
   "id": "f85f25f2-b791-4553-bbfc-cfe893a8bc1d",
   "metadata": {},
   "outputs": [
    {
     "data": {
      "text/plain": [
       "Taiwan           12361\n",
       "Hong Kong        11894\n",
       "China             7806\n",
       "Singapore         3909\n",
       "United States     3766\n",
       "                 ...  \n",
       "Botswana             1\n",
       "Macedonia            1\n",
       "Niger                1\n",
       "Sierra Leone         1\n",
       "Angola               1\n",
       "Name: countries, Length: 172, dtype: int64"
      ]
     },
     "execution_count": 7,
     "metadata": {},
     "output_type": "execute_result"
    }
   ],
   "source": [
    "a=df.loc[df[\"sourceID\"]==\"Offshore Leaks\", ['countries', 'sourceID']]\n",
    "a['countries'].value_counts()"
   ]
  },
  {
   "cell_type": "markdown",
   "id": "e91da514-31c3-4ade-979a-a5445698e438",
   "metadata": {
    "jp-MarkdownHeadingCollapsed": true,
    "tags": []
   },
   "source": [
    "#### 2.Dans combien d'entrée le mot \"Ireland\" est présent ? (nodes-addresses.csv)"
   ]
  },
  {
   "cell_type": "code",
   "execution_count": 8,
   "id": "26037c7a-724b-433e-9fdf-753af9ced513",
   "metadata": {},
   "outputs": [
    {
     "data": {
      "text/plain": [
       "_id              899\n",
       "node_id          899\n",
       "address          892\n",
       "name             622\n",
       "countries        899\n",
       "country_codes    899\n",
       "sourceID         899\n",
       "valid_until      899\n",
       "note               0\n",
       "dtype: int64"
      ]
     },
     "execution_count": 8,
     "metadata": {},
     "output_type": "execute_result"
    }
   ],
   "source": [
    "df[df[\"countries\"]==\"Ireland\"].count()"
   ]
  },
  {
   "cell_type": "markdown",
   "id": "c787500d-f351-4cd9-928a-9fcb3ec2f100",
   "metadata": {
    "jp-MarkdownHeadingCollapsed": true,
    "tags": []
   },
   "source": [
    "#### 3.Dans combien de montage apparrait \"EL PORTADOR\" ? (nodes-officers.csv)"
   ]
  },
  {
   "cell_type": "code",
   "execution_count": 9,
   "id": "0806f55d-97cb-4489-bdb8-44a947878c1f",
   "metadata": {},
   "outputs": [],
   "source": [
    "df1=pd.read_csv('nodes-officers.csv',low_memory=False)"
   ]
  },
  {
   "cell_type": "code",
   "execution_count": 10,
   "id": "453a9953-60fc-4061-9660-609c5ae770bd",
   "metadata": {},
   "outputs": [
    {
     "data": {
      "text/plain": [
       "EL PORTADOR    9325\n",
       "Name: name, dtype: int64"
      ]
     },
     "execution_count": 10,
     "metadata": {},
     "output_type": "execute_result"
    }
   ],
   "source": [
    "b=df1[df1[\"name\"]==\"EL PORTADOR\"]\n",
    "b[\"name\"].value_counts()"
   ]
  },
  {
   "cell_type": "markdown",
   "id": "8d6361e5-cc20-4b5d-836f-f0c70c4f4339",
   "metadata": {
    "jp-MarkdownHeadingCollapsed": true,
    "tags": []
   },
   "source": [
    "# Utilisation de Seaborn"
   ]
  },
  {
   "cell_type": "markdown",
   "id": "e7170819-ab84-4d9f-b6b7-0e8d73c83f21",
   "metadata": {
    "jp-MarkdownHeadingCollapsed": true,
    "tags": []
   },
   "source": [
    "#### 4.Faites un histogramme des pays qui ont été déclarés dans les offshore leaks"
   ]
  },
  {
   "cell_type": "code",
   "execution_count": 11,
   "id": "5222ecfc-d289-41ab-b3d7-668d7a2ff7d6",
   "metadata": {},
   "outputs": [
    {
     "data": {
      "text/plain": [
       "<AxesSubplot:xlabel='countries', ylabel='count'>"
      ]
     },
     "execution_count": 11,
     "metadata": {},
     "output_type": "execute_result"
    },
    {
     "data": {
      "image/png": "[encoded data removed]",
      "text/plain": [
       "<Figure size 1080x576 with 1 Axes>"
      ]
     },
     "metadata": {
      "needs_background": "light"
     },
     "output_type": "display_data"
    }
   ],
   "source": [
    "plt.figure(figsize = (15,8))\n",
    "sns.countplot(x='countries', data = a)"
   ]
  },
  {
   "cell_type": "markdown",
   "id": "c2b7ab94-38a0-4203-a22e-286d3799c4b8",
   "metadata": {
    "tags": []
   },
   "source": [
    "#### 5.Est on en présence d'une loi normale si non quel est le top 20 des pays les plus déclarrés ?"
   ]
  },
  {
   "cell_type": "code",
   "execution_count": 12,
   "id": "99662e82-8e3c-435e-a534-f4cbc80ba80a",
   "metadata": {},
   "outputs": [
    {
     "data": {
      "text/plain": [
       "<AxesSubplot:xlabel='countries', ylabel='count'>"
      ]
     },
     "execution_count": 12,
     "metadata": {},
     "output_type": "execute_result"
    },
    {
     "data": {
      "image/png": "[encoded data removed]",
      "text/plain": [
       "<Figure size 1080x576 with 1 Axes>"
      ]
     },
     "metadata": {
      "needs_background": "light"
     },
     "output_type": "display_data"
    }
   ],
   "source": [
    "plt.figure(figsize = (15,8))\n",
    "sns.countplot(x=\"countries\", data=a.head(20))"
   ]
  },
  {
   "cell_type": "markdown",
   "id": "cacbee11-2dd8-4286-b3a7-8965427caef6",
   "metadata": {
    "jp-MarkdownHeadingCollapsed": true,
    "tags": []
   },
   "source": [
    "# Reconstruction de la base de données"
   ]
  },
  {
   "cell_type": "markdown",
   "id": "3d38395d-b84b-4a2a-a0fe-d8147d513729",
   "metadata": {
    "jp-MarkdownHeadingCollapsed": true,
    "tags": []
   },
   "source": [
    "#### Merger selon le graphe les dataframes pour avoir sur un même dataframe le sous graphe suivante \"officer --- officer of ---> entity\"."
   ]
  },
  {
   "cell_type": "code",
   "execution_count": 13,
   "id": "e8c0fa1e-e45c-434b-a723-12c62a916464",
   "metadata": {},
   "outputs": [],
   "source": [
    "df2=pd.read_csv('relationships.csv',low_memory=False)\n",
    "df4=pd.read_csv('nodes-entities.csv',low_memory=False)"
   ]
  },
  {
   "cell_type": "code",
   "execution_count": 14,
   "id": "ed7d0ca9-cd9e-4db6-b2f6-accf0205a750",
   "metadata": {},
   "outputs": [],
   "source": [
    "df3=df2[df2['_type']== 'officer_of']"
   ]
  },
  {
   "cell_type": "code",
   "execution_count": 15,
   "id": "1aff1d0a-e8ca-4623-8eea-36b7beb442e9",
   "metadata": {},
   "outputs": [],
   "source": [
    "m=pd.merge(df1,df3, how='inner',left_on='_id', right_on='_start')"
   ]
  },
  {
   "cell_type": "code",
   "execution_count": 16,
   "id": "dce1614f-0492-4947-b375-fcb2a158c788",
   "metadata": {},
   "outputs": [
    {
     "data": {
      "text/html": [
       "<div>\n",
       "<style scoped>\n",
       "    .dataframe tbody tr th:only-of-type {\n",
       "        vertical-align: middle;\n",
       "    }\n",
       "\n",
       "    .dataframe tbody tr th {\n",
       "        vertical-align: top;\n",
       "    }\n",
       "\n",
       "    .dataframe thead th {\n",
       "        text-align: right;\n",
       "    }\n",
       "</style>\n",
       "<table border=\"1\" class=\"dataframe\">\n",
       "  <thead>\n",
       "    <tr style=\"text-align: right;\">\n",
       "      <th></th>\n",
       "      <th>_id_x</th>\n",
       "      <th>node_id_x</th>\n",
       "      <th>name_x</th>\n",
       "      <th>countries_x</th>\n",
       "      <th>country_codes_x</th>\n",
       "      <th>sourceID_x</th>\n",
       "      <th>valid_until_x</th>\n",
       "      <th>note_x</th>\n",
       "      <th>_start</th>\n",
       "      <th>_end</th>\n",
       "      <th>...</th>\n",
       "      <th>struck_off_date</th>\n",
       "      <th>dorm_date</th>\n",
       "      <th>status_y</th>\n",
       "      <th>service_provider</th>\n",
       "      <th>ibcRUC</th>\n",
       "      <th>country_codes_y</th>\n",
       "      <th>countries_y</th>\n",
       "      <th>sourceID</th>\n",
       "      <th>valid_until_y</th>\n",
       "      <th>note_y</th>\n",
       "    </tr>\n",
       "  </thead>\n",
       "  <tbody>\n",
       "    <tr>\n",
       "      <th>0</th>\n",
       "      <td>228598</td>\n",
       "      <td>12000001</td>\n",
       "      <td>KIM SOO IN</td>\n",
       "      <td>South Korea</td>\n",
       "      <td>KOR</td>\n",
       "      <td>Panama Papers</td>\n",
       "      <td>The Panama Papers data is current through 2015</td>\n",
       "      <td>NaN</td>\n",
       "      <td>228598</td>\n",
       "      <td>74508</td>\n",
       "      <td>...</td>\n",
       "      <td>31-OCT-2007</td>\n",
       "      <td>NaN</td>\n",
       "      <td>Defaulted</td>\n",
       "      <td>Mossack Fonseca</td>\n",
       "      <td>211317</td>\n",
       "      <td>USA</td>\n",
       "      <td>United States</td>\n",
       "      <td>Panama Papers</td>\n",
       "      <td>The Panama Papers data is current through 2015</td>\n",
       "      <td>NaN</td>\n",
       "    </tr>\n",
       "    <tr>\n",
       "      <th>1</th>\n",
       "      <td>323378</td>\n",
       "      <td>12097201</td>\n",
       "      <td>SONG SI HAN</td>\n",
       "      <td>South Korea</td>\n",
       "      <td>KOR</td>\n",
       "      <td>Panama Papers</td>\n",
       "      <td>The Panama Papers data is current through 2015</td>\n",
       "      <td>NaN</td>\n",
       "      <td>323378</td>\n",
       "      <td>74508</td>\n",
       "      <td>...</td>\n",
       "      <td>31-OCT-2007</td>\n",
       "      <td>NaN</td>\n",
       "      <td>Defaulted</td>\n",
       "      <td>Mossack Fonseca</td>\n",
       "      <td>211317</td>\n",
       "      <td>USA</td>\n",
       "      <td>United States</td>\n",
       "      <td>Panama Papers</td>\n",
       "      <td>The Panama Papers data is current through 2015</td>\n",
       "      <td>NaN</td>\n",
       "    </tr>\n",
       "    <tr>\n",
       "      <th>2</th>\n",
       "      <td>326697</td>\n",
       "      <td>12100428</td>\n",
       "      <td>HYUN MYUNG CHUL</td>\n",
       "      <td>Russia</td>\n",
       "      <td>RUS</td>\n",
       "      <td>Panama Papers</td>\n",
       "      <td>The Panama Papers data is current through 2015</td>\n",
       "      <td>NaN</td>\n",
       "      <td>326697</td>\n",
       "      <td>74508</td>\n",
       "      <td>...</td>\n",
       "      <td>31-OCT-2007</td>\n",
       "      <td>NaN</td>\n",
       "      <td>Defaulted</td>\n",
       "      <td>Mossack Fonseca</td>\n",
       "      <td>211317</td>\n",
       "      <td>USA</td>\n",
       "      <td>United States</td>\n",
       "      <td>Panama Papers</td>\n",
       "      <td>The Panama Papers data is current through 2015</td>\n",
       "      <td>NaN</td>\n",
       "    </tr>\n",
       "    <tr>\n",
       "      <th>3</th>\n",
       "      <td>335419</td>\n",
       "      <td>12109116</td>\n",
       "      <td>KIM WALTER YANGHOON</td>\n",
       "      <td>United States</td>\n",
       "      <td>USA</td>\n",
       "      <td>Panama Papers</td>\n",
       "      <td>The Panama Papers data is current through 2015</td>\n",
       "      <td>NaN</td>\n",
       "      <td>335419</td>\n",
       "      <td>74508</td>\n",
       "      <td>...</td>\n",
       "      <td>31-OCT-2007</td>\n",
       "      <td>NaN</td>\n",
       "      <td>Defaulted</td>\n",
       "      <td>Mossack Fonseca</td>\n",
       "      <td>211317</td>\n",
       "      <td>USA</td>\n",
       "      <td>United States</td>\n",
       "      <td>Panama Papers</td>\n",
       "      <td>The Panama Papers data is current through 2015</td>\n",
       "      <td>NaN</td>\n",
       "    </tr>\n",
       "    <tr>\n",
       "      <th>4</th>\n",
       "      <td>431596</td>\n",
       "      <td>12205214</td>\n",
       "      <td>MALIVANOV SERGUEI</td>\n",
       "      <td>Hong Kong</td>\n",
       "      <td>HKG</td>\n",
       "      <td>Panama Papers</td>\n",
       "      <td>The Panama Papers data is current through 2015</td>\n",
       "      <td>NaN</td>\n",
       "      <td>431596</td>\n",
       "      <td>74508</td>\n",
       "      <td>...</td>\n",
       "      <td>31-OCT-2007</td>\n",
       "      <td>NaN</td>\n",
       "      <td>Defaulted</td>\n",
       "      <td>Mossack Fonseca</td>\n",
       "      <td>211317</td>\n",
       "      <td>USA</td>\n",
       "      <td>United States</td>\n",
       "      <td>Panama Papers</td>\n",
       "      <td>The Panama Papers data is current through 2015</td>\n",
       "      <td>NaN</td>\n",
       "    </tr>\n",
       "    <tr>\n",
       "      <th>...</th>\n",
       "      <td>...</td>\n",
       "      <td>...</td>\n",
       "      <td>...</td>\n",
       "      <td>...</td>\n",
       "      <td>...</td>\n",
       "      <td>...</td>\n",
       "      <td>...</td>\n",
       "      <td>...</td>\n",
       "      <td>...</td>\n",
       "      <td>...</td>\n",
       "      <td>...</td>\n",
       "      <td>...</td>\n",
       "      <td>...</td>\n",
       "      <td>...</td>\n",
       "      <td>...</td>\n",
       "      <td>...</td>\n",
       "      <td>...</td>\n",
       "      <td>...</td>\n",
       "      <td>...</td>\n",
       "      <td>...</td>\n",
       "      <td>...</td>\n",
       "    </tr>\n",
       "    <tr>\n",
       "      <th>1686128</th>\n",
       "      <td>1969294</td>\n",
       "      <td>240050867</td>\n",
       "      <td>HASHEM KHOSROVANI</td>\n",
       "      <td>United Arab Emirates</td>\n",
       "      <td>ARE;CHE</td>\n",
       "      <td>Pandora Papers - Alemán, Cordero, Galindo &amp; Le...</td>\n",
       "      <td>Provider data is current through 2017</td>\n",
       "      <td>NaN</td>\n",
       "      <td>1969294</td>\n",
       "      <td>1607897</td>\n",
       "      <td>...</td>\n",
       "      <td>NaN</td>\n",
       "      <td>NaN</td>\n",
       "      <td>Active</td>\n",
       "      <td>NaN</td>\n",
       "      <td>1558911</td>\n",
       "      <td>VGB</td>\n",
       "      <td>British Virgin Islands</td>\n",
       "      <td>Pandora Papers - Alemán, Cordero, Galindo &amp; Le...</td>\n",
       "      <td>Provider data is current through 2017</td>\n",
       "      <td>NaN</td>\n",
       "    </tr>\n",
       "    <tr>\n",
       "      <th>1686129</th>\n",
       "      <td>1969304</td>\n",
       "      <td>240069001</td>\n",
       "      <td>Edgardo Eloy Díaz</td>\n",
       "      <td>Panama</td>\n",
       "      <td>PAN</td>\n",
       "      <td>Pandora Papers - Alemán, Cordero, Galindo &amp; Le...</td>\n",
       "      <td>Pandora Papers - Alcogal data is current throu...</td>\n",
       "      <td>NaN</td>\n",
       "      <td>1969304</td>\n",
       "      <td>1969303</td>\n",
       "      <td>...</td>\n",
       "      <td>NaN</td>\n",
       "      <td>NaN</td>\n",
       "      <td>Dissolved</td>\n",
       "      <td>NaN</td>\n",
       "      <td>NaN</td>\n",
       "      <td>BLZ</td>\n",
       "      <td>Belize</td>\n",
       "      <td>Pandora Papers - Alemán, Cordero, Galindo &amp; Le...</td>\n",
       "      <td>Pandora Papers - Alcogal data is current throu...</td>\n",
       "      <td>NaN</td>\n",
       "    </tr>\n",
       "    <tr>\n",
       "      <th>1686130</th>\n",
       "      <td>1969305</td>\n",
       "      <td>240069002</td>\n",
       "      <td>José Creuheras Margenat</td>\n",
       "      <td>Spain</td>\n",
       "      <td>ESP</td>\n",
       "      <td>Pandora Papers - Alemán, Cordero, Galindo &amp; Le...</td>\n",
       "      <td>Pandora Papers - Alcogal data is current throu...</td>\n",
       "      <td>NaN</td>\n",
       "      <td>1969305</td>\n",
       "      <td>1969303</td>\n",
       "      <td>...</td>\n",
       "      <td>NaN</td>\n",
       "      <td>NaN</td>\n",
       "      <td>Dissolved</td>\n",
       "      <td>NaN</td>\n",
       "      <td>NaN</td>\n",
       "      <td>BLZ</td>\n",
       "      <td>Belize</td>\n",
       "      <td>Pandora Papers - Alemán, Cordero, Galindo &amp; Le...</td>\n",
       "      <td>Pandora Papers - Alcogal data is current throu...</td>\n",
       "      <td>NaN</td>\n",
       "    </tr>\n",
       "    <tr>\n",
       "      <th>1686131</th>\n",
       "      <td>1969306</td>\n",
       "      <td>240069003</td>\n",
       "      <td>Columna Marti Pico</td>\n",
       "      <td>NaN</td>\n",
       "      <td>NaN</td>\n",
       "      <td>Pandora Papers - Alemán, Cordero, Galindo &amp; Le...</td>\n",
       "      <td>Pandora Papers - Alcogal data is current throu...</td>\n",
       "      <td>NaN</td>\n",
       "      <td>1969306</td>\n",
       "      <td>1969303</td>\n",
       "      <td>...</td>\n",
       "      <td>NaN</td>\n",
       "      <td>NaN</td>\n",
       "      <td>Dissolved</td>\n",
       "      <td>NaN</td>\n",
       "      <td>NaN</td>\n",
       "      <td>BLZ</td>\n",
       "      <td>Belize</td>\n",
       "      <td>Pandora Papers - Alemán, Cordero, Galindo &amp; Le...</td>\n",
       "      <td>Pandora Papers - Alcogal data is current throu...</td>\n",
       "      <td>NaN</td>\n",
       "    </tr>\n",
       "    <tr>\n",
       "      <th>1686132</th>\n",
       "      <td>1969307</td>\n",
       "      <td>240069004</td>\n",
       "      <td>Myrna de Navarro</td>\n",
       "      <td>NaN</td>\n",
       "      <td>NaN</td>\n",
       "      <td>Pandora Papers - Alemán, Cordero, Galindo &amp; Le...</td>\n",
       "      <td>Pandora Papers - Alcogal data is current throu...</td>\n",
       "      <td>NaN</td>\n",
       "      <td>1969307</td>\n",
       "      <td>1969303</td>\n",
       "      <td>...</td>\n",
       "      <td>NaN</td>\n",
       "      <td>NaN</td>\n",
       "      <td>Dissolved</td>\n",
       "      <td>NaN</td>\n",
       "      <td>NaN</td>\n",
       "      <td>BLZ</td>\n",
       "      <td>Belize</td>\n",
       "      <td>Pandora Papers - Alemán, Cordero, Galindo &amp; Le...</td>\n",
       "      <td>Pandora Papers - Alcogal data is current throu...</td>\n",
       "      <td>NaN</td>\n",
       "    </tr>\n",
       "  </tbody>\n",
       "</table>\n",
       "<p>1686133 rows × 38 columns</p>\n",
       "</div>"
      ],
      "text/plain": [
       "           _id_x  node_id_x                   name_x           countries_x  \\\n",
       "0         228598   12000001               KIM SOO IN           South Korea   \n",
       "1         323378   12097201              SONG SI HAN           South Korea   \n",
       "2         326697   12100428          HYUN MYUNG CHUL                Russia   \n",
       "3         335419   12109116      KIM WALTER YANGHOON         United States   \n",
       "4         431596   12205214        MALIVANOV SERGUEI             Hong Kong   \n",
       "...          ...        ...                      ...                   ...   \n",
       "1686128  1969294  240050867        HASHEM KHOSROVANI  United Arab Emirates   \n",
       "1686129  1969304  240069001        Edgardo Eloy Díaz                Panama   \n",
       "1686130  1969305  240069002  José Creuheras Margenat                 Spain   \n",
       "1686131  1969306  240069003       Columna Marti Pico                   NaN   \n",
       "1686132  1969307  240069004         Myrna de Navarro                   NaN   \n",
       "\n",
       "        country_codes_x                                         sourceID_x  \\\n",
       "0                   KOR                                      Panama Papers   \n",
       "1                   KOR                                      Panama Papers   \n",
       "2                   RUS                                      Panama Papers   \n",
       "3                   USA                                      Panama Papers   \n",
       "4                   HKG                                      Panama Papers   \n",
       "...                 ...                                                ...   \n",
       "1686128         ARE;CHE  Pandora Papers - Alemán, Cordero, Galindo & Le...   \n",
       "1686129             PAN  Pandora Papers - Alemán, Cordero, Galindo & Le...   \n",
       "1686130             ESP  Pandora Papers - Alemán, Cordero, Galindo & Le...   \n",
       "1686131             NaN  Pandora Papers - Alemán, Cordero, Galindo & Le...   \n",
       "1686132             NaN  Pandora Papers - Alemán, Cordero, Galindo & Le...   \n",
       "\n",
       "                                             valid_until_x note_x   _start  \\\n",
       "0           The Panama Papers data is current through 2015    NaN   228598   \n",
       "1           The Panama Papers data is current through 2015    NaN   323378   \n",
       "2           The Panama Papers data is current through 2015    NaN   326697   \n",
       "3           The Panama Papers data is current through 2015    NaN   335419   \n",
       "4           The Panama Papers data is current through 2015    NaN   431596   \n",
       "...                                                    ...    ...      ...   \n",
       "1686128              Provider data is current through 2017    NaN  1969294   \n",
       "1686129  Pandora Papers - Alcogal data is current throu...    NaN  1969304   \n",
       "1686130  Pandora Papers - Alcogal data is current throu...    NaN  1969305   \n",
       "1686131  Pandora Papers - Alcogal data is current throu...    NaN  1969306   \n",
       "1686132  Pandora Papers - Alcogal data is current throu...    NaN  1969307   \n",
       "\n",
       "            _end  ... struck_off_date dorm_date   status_y service_provider  \\\n",
       "0          74508  ...     31-OCT-2007       NaN  Defaulted  Mossack Fonseca   \n",
       "1          74508  ...     31-OCT-2007       NaN  Defaulted  Mossack Fonseca   \n",
       "2          74508  ...     31-OCT-2007       NaN  Defaulted  Mossack Fonseca   \n",
       "3          74508  ...     31-OCT-2007       NaN  Defaulted  Mossack Fonseca   \n",
       "4          74508  ...     31-OCT-2007       NaN  Defaulted  Mossack Fonseca   \n",
       "...          ...  ...             ...       ...        ...              ...   \n",
       "1686128  1607897  ...             NaN       NaN     Active              NaN   \n",
       "1686129  1969303  ...             NaN       NaN  Dissolved              NaN   \n",
       "1686130  1969303  ...             NaN       NaN  Dissolved              NaN   \n",
       "1686131  1969303  ...             NaN       NaN  Dissolved              NaN   \n",
       "1686132  1969303  ...             NaN       NaN  Dissolved              NaN   \n",
       "\n",
       "          ibcRUC country_codes_y             countries_y  \\\n",
       "0         211317             USA           United States   \n",
       "1         211317             USA           United States   \n",
       "2         211317             USA           United States   \n",
       "3         211317             USA           United States   \n",
       "4         211317             USA           United States   \n",
       "...          ...             ...                     ...   \n",
       "1686128  1558911             VGB  British Virgin Islands   \n",
       "1686129      NaN             BLZ                  Belize   \n",
       "1686130      NaN             BLZ                  Belize   \n",
       "1686131      NaN             BLZ                  Belize   \n",
       "1686132      NaN             BLZ                  Belize   \n",
       "\n",
       "                                                  sourceID  \\\n",
       "0                                            Panama Papers   \n",
       "1                                            Panama Papers   \n",
       "2                                            Panama Papers   \n",
       "3                                            Panama Papers   \n",
       "4                                            Panama Papers   \n",
       "...                                                    ...   \n",
       "1686128  Pandora Papers - Alemán, Cordero, Galindo & Le...   \n",
       "1686129  Pandora Papers - Alemán, Cordero, Galindo & Le...   \n",
       "1686130  Pandora Papers - Alemán, Cordero, Galindo & Le...   \n",
       "1686131  Pandora Papers - Alemán, Cordero, Galindo & Le...   \n",
       "1686132  Pandora Papers - Alemán, Cordero, Galindo & Le...   \n",
       "\n",
       "                                             valid_until_y note_y  \n",
       "0           The Panama Papers data is current through 2015    NaN  \n",
       "1           The Panama Papers data is current through 2015    NaN  \n",
       "2           The Panama Papers data is current through 2015    NaN  \n",
       "3           The Panama Papers data is current through 2015    NaN  \n",
       "4           The Panama Papers data is current through 2015    NaN  \n",
       "...                                                    ...    ...  \n",
       "1686128              Provider data is current through 2017    NaN  \n",
       "1686129  Pandora Papers - Alcogal data is current throu...    NaN  \n",
       "1686130  Pandora Papers - Alcogal data is current throu...    NaN  \n",
       "1686131  Pandora Papers - Alcogal data is current throu...    NaN  \n",
       "1686132  Pandora Papers - Alcogal data is current throu...    NaN  \n",
       "\n",
       "[1686133 rows x 38 columns]"
      ]
     },
     "execution_count": 16,
     "metadata": {},
     "output_type": "execute_result"
    }
   ],
   "source": [
    "m = m.merge(df4, left_on='_end',right_on='_id')\n",
    "m"
   ]
  },
  {
   "cell_type": "markdown",
   "id": "7013e15f-6aa6-4814-aa22-f00e91ff72ff",
   "metadata": {
    "jp-MarkdownHeadingCollapsed": true,
    "tags": []
   },
   "source": [
    "# Exercice III"
   ]
  },
  {
   "cell_type": "markdown",
   "id": "ca4cd878-2b14-4a4c-a5be-9b10cda960d5",
   "metadata": {
    "jp-MarkdownHeadingCollapsed": true,
    "tags": []
   },
   "source": [
    "#### 6.Combien de service providers ont été déclarés dans les offshore leaks et quelle est la proportion de ces service providers vis-à-vis de des officers ?"
   ]
  },
  {
   "cell_type": "code",
   "execution_count": 17,
   "id": "0fdbbd1b-b5d0-4123-8082-0cd7643e2d7e",
   "metadata": {},
   "outputs": [
    {
     "data": {
      "text/html": [
       "<div>\n",
       "<style scoped>\n",
       "    .dataframe tbody tr th:only-of-type {\n",
       "        vertical-align: middle;\n",
       "    }\n",
       "\n",
       "    .dataframe tbody tr th {\n",
       "        vertical-align: top;\n",
       "    }\n",
       "\n",
       "    .dataframe thead th {\n",
       "        text-align: right;\n",
       "    }\n",
       "</style>\n",
       "<table border=\"1\" class=\"dataframe\">\n",
       "  <thead>\n",
       "    <tr style=\"text-align: right;\">\n",
       "      <th></th>\n",
       "      <th>name_x</th>\n",
       "    </tr>\n",
       "    <tr>\n",
       "      <th>service_provider</th>\n",
       "      <th></th>\n",
       "    </tr>\n",
       "  </thead>\n",
       "  <tbody>\n",
       "    <tr>\n",
       "      <th>Appleby</th>\n",
       "      <td>Ibrahim MahamaEngineers &amp; Planners Company Lim...</td>\n",
       "    </tr>\n",
       "    <tr>\n",
       "      <th>Commonwealth Trust Limited</th>\n",
       "      <td>Geoffrey TaylorSergey LinkovIrina KazantsevaGe...</td>\n",
       "    </tr>\n",
       "    <tr>\n",
       "      <th>Mossack Fonseca</th>\n",
       "      <td>KIM SOO INSONG SI HANHYUN MYUNG CHULKIM WALTER...</td>\n",
       "    </tr>\n",
       "    <tr>\n",
       "      <th>Portcullis Trustnet</th>\n",
       "      <td>Bisbro Investment Company Ltd.Dr. Yousuf Al-Fa...</td>\n",
       "    </tr>\n",
       "  </tbody>\n",
       "</table>\n",
       "</div>"
      ],
      "text/plain": [
       "                                                                       name_x\n",
       "service_provider                                                             \n",
       "Appleby                     Ibrahim MahamaEngineers & Planners Company Lim...\n",
       "Commonwealth Trust Limited  Geoffrey TaylorSergey LinkovIrina KazantsevaGe...\n",
       "Mossack Fonseca             KIM SOO INSONG SI HANHYUN MYUNG CHULKIM WALTER...\n",
       "Portcullis Trustnet         Bisbro Investment Company Ltd.Dr. Yousuf Al-Fa..."
      ]
     },
     "execution_count": 17,
     "metadata": {},
     "output_type": "execute_result"
    }
   ],
   "source": [
    "m[[\"name_x\",\"service_provider\"]].groupby(by=\"service_provider\").sum()"
   ]
  },
  {
   "cell_type": "code",
   "execution_count": null,
   "id": "1e474179-db81-464b-9e26-753dd3433249",
   "metadata": {},
   "outputs": [],
   "source": []
  }
 ],
 "metadata": {
  "kernelspec": {
   "display_name": "Python 3 (ipykernel)",
   "language": "python",
   "name": "python3"
  },
  "language_info": {
   "codemirror_mode": {
    "name": "ipython",
    "version": 3
   },
   "file_extension": ".py",
   "mimetype": "text/x-python",
   "name": "python",
   "nbconvert_exporter": "python",
   "pygments_lexer": "ipython3",
   "version": "3.10.2"
  }
 },
 "nbformat": 4,
 "nbformat_minor": 5
}
